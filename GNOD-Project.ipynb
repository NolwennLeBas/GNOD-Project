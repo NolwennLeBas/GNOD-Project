{
 "cells": [
  {
   "cell_type": "markdown",
   "id": "2ef3a8aa-9a16-494f-8182-f62122716871",
   "metadata": {},
   "source": [
    "                                                            GNOD Project"
   ]
  },
  {
   "cell_type": "markdown",
   "id": "bc380b37-1d50-43b2-b784-d1b90d1f043e",
   "metadata": {},
   "source": [
    "Context : \n",
    "Dear xxxxxxxx,\n",
    " \n",
    "We are thrilled to welcome you as a Data Analyst for Gnoosic!\n",
    " \n",
    "As you know, we are trying to come up with ways to enhance our music recommendations. One of the new features we'd like to research is to recommend songs (not only bands). We're also aware of the limitations of our collaborative filtering algorithms, and would like to give users two new possibilities when searching for recommendations:\n",
    " \n",
    "- Songs that are actually similar to the ones they picked from an acoustic point of view.\n",
    "- Songs that are popular around the world right now, independently from their tastes.\n",
    " \n",
    "Coming up with the perfect song recommender will take us months - no need to stress out too much. In this first week, we want you to explore new data sources for songs. The internet is full of information and our first step is to acquire it do an initial exploration. Feel free to use APIs or directly scrape the web to collect as much information as possible from popular songs. Eventually, we'll need to collect data from millions of songs, but we can start with a few hundreds or thousands from each source and see if the collected features are useful. \n",
    " \n",
    "Once the data is collected, we want you to create clusters of songs that are similar to each other. The idea is that if a user inputs a song from one group, we'll prioritize giving them recommendations of songs from that same group.\n",
    " \n",
    "On Friday, you will present your work to me and Marek, the CEO and founder. Full disclosure: I need you to be very convincing about this whole song-recommender, as this has been my personal push and the main reason we hired you for!\n",
    " \n",
    "Be open minded about this process: we are agile, and that means that we define our products and features on-the-go, while exploring the tools and the data that's available to us. We'd love you to provide your own vision of the product and the next steps to be taken.\n",
    " \n",
    "Lots of luck and strength for this first week with us!\n",
    " \n",
    "Jane"
   ]
  },
  {
   "cell_type": "code",
   "execution_count": 1,
   "id": "47d97c24-9070-4706-a1b1-6d495b7d53e4",
   "metadata": {},
   "outputs": [],
   "source": [
    "from bs4 import BeautifulSoup\n",
    "import requests\n",
    "import pandas as pd"
   ]
  },
  {
   "cell_type": "markdown",
   "id": "48df5289-108a-4860-b91a-dfaa128e2d1d",
   "metadata": {},
   "source": [
    "* PART I : Scraping popular songs\n",
    "s. Popvortex maintains a weekly Top 100 of \"hot\" songs here: http://www.popvortex.com/music/charts/top-100-songs.phart! Scrape the current top 100 songs and their respective artists, and put the information into a pandas dataframe."
   ]
  },
  {
   "cell_type": "code",
   "execution_count": 2,
   "id": "3e64daf6-1201-4259-9324-ac7c3cdfcbff",
   "metadata": {},
   "outputs": [],
   "source": [
    "#store the url in a variable\n",
    "url = \"http://www.popvortex.com/music/charts/top-100-songs.php\""
   ]
  },
  {
   "cell_type": "code",
   "execution_count": 3,
   "id": "2a252c38-7c47-4404-bc99-a5f2d015305b",
   "metadata": {},
   "outputs": [],
   "source": [
    "#download the html with a request\n",
    "response = requests.get(url)"
   ]
  },
  {
   "cell_type": "code",
   "execution_count": 4,
   "id": "0decb0aa-ad84-47e3-8594-6488f78ed4ee",
   "metadata": {},
   "outputs": [
    {
     "data": {
      "text/plain": [
       "200"
      ]
     },
     "execution_count": 4,
     "metadata": {},
     "output_type": "execute_result"
    }
   ],
   "source": [
    "#verify the response status\n",
    "response.status_code"
   ]
  },
  {
   "cell_type": "code",
   "execution_count": 5,
   "id": "a264da37-907d-4442-87c4-985565dc3e60",
   "metadata": {},
   "outputs": [],
   "source": [
    "#parse the html\n",
    "soup = BeautifulSoup(response.content, \"html.parser\")"
   ]
  },
  {
   "cell_type": "code",
   "execution_count": 6,
   "id": "4f77e766-9add-4377-bfc0-f31cab18a724",
   "metadata": {
    "scrolled": true
   },
   "outputs": [],
   "source": [
    "# retrieve/extract the top100 songs genral chart (using the top100 songs \"Selector\")\n",
    "top100=soup.select(\"body > div.container > div:nth-child(4) > div.col-xs-12.col-md-8 > div.chart-wrapper\")\n",
    "#top100"
   ]
  },
  {
   "cell_type": "code",
   "execution_count": 7,
   "id": "00f2f8c4-f8e9-4b4f-acfd-016e64ffaea8",
   "metadata": {},
   "outputs": [
    {
     "name": "stdout",
     "output_type": "stream",
     "text": [
      "['I Had Some Help (feat. Morgan Wallen)', 'A Bar Song (Tipsy)', 'Come back to me', 'Not Like Us', 'Lose Control', 'Lose My Breath', 'Heartbreak Summer', 'MILLION DOLLAR BABY', 'euphoria', 'Ronald', 'Too Sweet', 'Beautiful Things', 'I Had Some Help (feat. Morgan Wallen)', \"HIND'S HALL\", 'meet the grahams', 'Espresso', 'A Bar Song (Tipsy)', 'Miles On It', 'Feel Like Hell Today', 'Come back to me (Radio Edit)', 'Fortnight (feat. Post Malone)', 'Stargazing', \"I Can't\", 'Troubles', 'Where That Came From', 'Lose My Breath (Instrumental)', 'Like That', 'BOA', 'The Door', 'Family Matters', 'Jelly (feat. 2Rare) [Remix]', 'Live Like You Were Dying', 'I Can Do It With a Broken Heart', 'Come back to me', 'Training Season', 'Austin', 'Save Me (with Lainey Wilson)', 'Take It All Back', 'Cowgirls (feat. ERNEST)', 'Can You Hear Me', 'i like the way you kiss me', 'Halfway To Hell', 'Lil Boo Thang', 'Where the Wild Things Are', 'Illusion', 'A Country Boy Can Survive', \"we can't be friends (wait for your love)\", 'Beautiful As You', 'Dirt Cheap', 'Wondering Why', 'Stick Season', 'BOA', 'Save Me', 'The Sound of Silence (CYRIL Remix)', 'Here Comes the Hotstepper (Heartical Mix)', 'GOOD DAY', 'Last Night', 'Who’s Afraid of Little Old Me?', 'Austin', 'Houdini', 'Beautiful Things', 'Slow It Down', 'Need a Favor', 'Wildflowers and Wild Horses (Single Version)', 'act iii: on god? (she like) [slowed down]', 'Unwritten', 'Lovin On Me', 'Push Ups', 'GO HOME W U', 'TRUCK BED', 'Hard to Love', 'Flowers', 'act iii: on god? (she like) [sped up]', 'Cruel Summer', 'I Remember Everything (feat. Kacey Musgraves)', 'Praise (feat. Brandon Lake, Chris Brown & Chandler Moore)', 'Down Bad', 'act iv: fckin u (18+) [sped up]', \"TEXAS HOLD 'EM\", 'A Symptom Of Being Human', 'Wine Into Whiskey', 'Bulletproof', 'act iii: on god? (she like) [remix]', 'Death Wish', 'act iv: fckin u (18+) [slowed down]', 'White Horse', 'Thinkin’ Bout Me', 'Home', 'I Go Meow', 'Wanna Be', 'Fast Car', 'Pretty Little Devil', 'Tennessee Whiskey', 'Hammer to the Heart', 'Made For Me', 'umademeast4r.mp3', 'act iii: on god? (she like)', 'get out yo feelings ho', 'Wanna Be', 'act ii: date @ 8']\n",
      "['Post Malone', 'Shaboozey', 'RM', 'Kendrick Lamar', 'Teddy Swims', 'Stray Kids & Charlie Puth', 'Whitney Wren', 'Tommy Richman', 'Kendrick Lamar', 'Falling In Reverse, Tech N9ne & Alex Terrible', 'Hozier', 'Benson Boone', 'Post Malone', 'Macklemore', 'Kendrick Lamar', 'Sabrina Carpenter', 'Shaboozey', 'Marshmello & Kane Brown', 'Cooper Alan', 'RM', 'Taylor Swift', 'Myles Smith', 'Reba McEntire', 'Ren', 'Randy Travis', 'Stray Kids & Charlie Puth', 'Future, Metro Boomin & Kendrick Lamar', 'Megan Thee Stallion', 'Teddy Swims', 'Drake', 'DreamDoll', 'Tim McGraw', 'Taylor Swift', 'RM', 'Dua Lipa', 'Dasha', 'Jelly Roll', 'Tauren Wells, We The Kingdom & Davies', 'Morgan Wallen', 'Zhang Zhe Han', 'Artemas', 'Jelly Roll', 'Paul Russell', 'Luke Combs', 'Dua Lipa', 'Hank Williams, Jr.', 'Ariana Grande', 'Thomas Rhett', 'Cody Johnson', 'The Red Clay Strays', 'Noah Kahan', 'Megan Thee Stallion', 'Jelly Roll', 'Disturbed', 'Ini Kamoze', 'Forrest Frank', 'Morgan Wallen', 'Taylor Swift', 'Dasha', 'Dua Lipa', 'Benson Boone', 'Benson Boone', 'Jelly Roll', 'Lainey Wilson', '4batz', 'Natasha Bedingfield', 'Jack Harlow', 'Drake', 'Keith Urban & Lainey Wilson', 'HARDY', 'Lee Brice', 'Miley Cyrus', '4batz', 'Taylor Swift', 'Zach Bryan', 'Elevation Worship', 'Taylor Swift', '4batz', 'Beyoncé', 'Shinedown', 'Tucker Wetmore', 'Nate Smith', '4batz & Kanye West', 'Royale Lynn & Danny Worsnop', '4batz', 'Chris Stapleton', 'Morgan Wallen', 'Good Neighbours', 'The Kiffness', 'GloRilla & Megan Thee Stallion', 'Luke Combs', 'Shaya Zamora', 'Chris Stapleton', 'Teddy Swims', 'Muni Long', '4batz', '4batz', '4batz', 'GloRilla & Megan Thee Stallion', '4batz']\n"
     ]
    }
   ],
   "source": [
    "# from the general chart, extracting the title and artist of each songs and storing them into lists\n",
    "title=[]\n",
    "artist=[]\n",
    "for l in top100:\n",
    "    for t in l.select(\".title\"):\n",
    "        title.append(t.get_text())\n",
    "    for a in l.select(\".artist\"):\n",
    "        artist.append(a.get_text())\n",
    "print(title)\n",
    "print(artist)"
   ]
  },
  {
   "cell_type": "code",
   "execution_count": 8,
   "id": "478353c7-7116-4e96-b8e4-713eae697ea6",
   "metadata": {},
   "outputs": [
    {
     "data": {
      "text/html": [
       "<div>\n",
       "<style scoped>\n",
       "    .dataframe tbody tr th:only-of-type {\n",
       "        vertical-align: middle;\n",
       "    }\n",
       "\n",
       "    .dataframe tbody tr th {\n",
       "        vertical-align: top;\n",
       "    }\n",
       "\n",
       "    .dataframe thead th {\n",
       "        text-align: right;\n",
       "    }\n",
       "</style>\n",
       "<table border=\"1\" class=\"dataframe\">\n",
       "  <thead>\n",
       "    <tr style=\"text-align: right;\">\n",
       "      <th></th>\n",
       "      <th>title</th>\n",
       "      <th>artist</th>\n",
       "    </tr>\n",
       "  </thead>\n",
       "  <tbody>\n",
       "    <tr>\n",
       "      <th>0</th>\n",
       "      <td>I Had Some Help (feat. Morgan Wallen)</td>\n",
       "      <td>Post Malone</td>\n",
       "    </tr>\n",
       "    <tr>\n",
       "      <th>1</th>\n",
       "      <td>A Bar Song (Tipsy)</td>\n",
       "      <td>Shaboozey</td>\n",
       "    </tr>\n",
       "    <tr>\n",
       "      <th>2</th>\n",
       "      <td>Come back to me</td>\n",
       "      <td>RM</td>\n",
       "    </tr>\n",
       "    <tr>\n",
       "      <th>3</th>\n",
       "      <td>Not Like Us</td>\n",
       "      <td>Kendrick Lamar</td>\n",
       "    </tr>\n",
       "    <tr>\n",
       "      <th>4</th>\n",
       "      <td>Lose Control</td>\n",
       "      <td>Teddy Swims</td>\n",
       "    </tr>\n",
       "    <tr>\n",
       "      <th>...</th>\n",
       "      <td>...</td>\n",
       "      <td>...</td>\n",
       "    </tr>\n",
       "    <tr>\n",
       "      <th>95</th>\n",
       "      <td>umademeast4r.mp3</td>\n",
       "      <td>4batz</td>\n",
       "    </tr>\n",
       "    <tr>\n",
       "      <th>96</th>\n",
       "      <td>act iii: on god? (she like)</td>\n",
       "      <td>4batz</td>\n",
       "    </tr>\n",
       "    <tr>\n",
       "      <th>97</th>\n",
       "      <td>get out yo feelings ho</td>\n",
       "      <td>4batz</td>\n",
       "    </tr>\n",
       "    <tr>\n",
       "      <th>98</th>\n",
       "      <td>Wanna Be</td>\n",
       "      <td>GloRilla &amp; Megan Thee Stallion</td>\n",
       "    </tr>\n",
       "    <tr>\n",
       "      <th>99</th>\n",
       "      <td>act ii: date @ 8</td>\n",
       "      <td>4batz</td>\n",
       "    </tr>\n",
       "  </tbody>\n",
       "</table>\n",
       "<p>100 rows × 2 columns</p>\n",
       "</div>"
      ],
      "text/plain": [
       "                                    title                          artist\n",
       "0   I Had Some Help (feat. Morgan Wallen)                     Post Malone\n",
       "1                      A Bar Song (Tipsy)                       Shaboozey\n",
       "2                         Come back to me                              RM\n",
       "3                             Not Like Us                  Kendrick Lamar\n",
       "4                            Lose Control                     Teddy Swims\n",
       "..                                    ...                             ...\n",
       "95                       umademeast4r.mp3                           4batz\n",
       "96            act iii: on god? (she like)                           4batz\n",
       "97                 get out yo feelings ho                           4batz\n",
       "98                               Wanna Be  GloRilla & Megan Thee Stallion\n",
       "99                       act ii: date @ 8                           4batz\n",
       "\n",
       "[100 rows x 2 columns]"
      ]
     },
     "execution_count": 8,
     "metadata": {},
     "output_type": "execute_result"
    }
   ],
   "source": [
    "# combining the lists into a dataframe\n",
    "top100_df = pd.DataFrame({\"title\":title, \"artist\":artist})\n",
    "top100_df"
   ]
  },
  {
   "cell_type": "markdown",
   "id": "7ed7b016-717c-45ed-b874-1f9365c1e035",
   "metadata": {},
   "source": [
    "* Asking for user input and recommending a random song from top100"
   ]
  },
  {
   "cell_type": "code",
   "execution_count": 9,
   "id": "c1563b23-ef84-49ff-9907-03585edb6a89",
   "metadata": {},
   "outputs": [
    {
     "name": "stdout",
     "output_type": "stream",
     "text": [
      "Enter song title: NOT LIKE US\n"
     ]
    }
   ],
   "source": [
    "#asking for user input\n",
    "song_title=input(\"Enter song title: \")"
   ]
  },
  {
   "cell_type": "code",
   "execution_count": 10,
   "id": "ccd4c636-2457-4012-bc80-96443ce4fca7",
   "metadata": {},
   "outputs": [
    {
     "name": "stdout",
     "output_type": "stream",
     "text": [
      "You should check out:\n",
      "Beautiful As You  by  Thomas Rhett\n"
     ]
    }
   ],
   "source": [
    "#recommending a song\n",
    "if song_title.lower() in top100_df['title'].str.lower().values:\n",
    "    random=top100_df.sample()\n",
    "    print(\"You should check out:\")\n",
    "    print(random['title'].values[0], ' by ', random['artist'].values[0])\n",
    "else:\n",
    "    print(\"Can't recommend songs at the moment\")"
   ]
  },
  {
   "cell_type": "code",
   "execution_count": 11,
   "id": "20d629d6-2e74-4293-a043-2dba85412e1a",
   "metadata": {},
   "outputs": [],
   "source": [
    "top100_df.to_csv('hot_songs.csv', index=False)"
   ]
  }
 ],
 "metadata": {
  "kernelspec": {
   "display_name": "Python 3 (ipykernel)",
   "language": "python",
   "name": "python3"
  },
  "language_info": {
   "codemirror_mode": {
    "name": "ipython",
    "version": 3
   },
   "file_extension": ".py",
   "mimetype": "text/x-python",
   "name": "python",
   "nbconvert_exporter": "python",
   "pygments_lexer": "ipython3",
   "version": "3.11.7"
  }
 },
 "nbformat": 4,
 "nbformat_minor": 5
}
