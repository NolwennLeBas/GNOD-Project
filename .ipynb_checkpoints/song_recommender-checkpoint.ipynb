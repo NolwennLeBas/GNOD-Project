{
 "cells": [
  {
   "cell_type": "markdown",
   "id": "e0fad499",
   "metadata": {},
   "source": [
    "# Building a song recommender"
   ]
  },
  {
   "cell_type": "markdown",
   "id": "210d2775",
   "metadata": {},
   "source": [
    "Context : Dear xxxxxxxx,\n",
    "\n",
    "We are thrilled to welcome you as a Data Analyst for Gnoosic!\n",
    "\n",
    "As you know, we are trying to come up with ways to enhance our music recommendations. One of the new features we'd like to research is to recommend songs (not only bands). We're also aware of the limitations of our collaborative filtering algorithms, and would like to give users two new possibilities when searching for recommendations:\n",
    "\n",
    "Songs that are actually similar to the ones they picked from an acoustic point of view.\n",
    "Songs that are popular around the world right now, independently from their tastes.\n",
    "Coming up with the perfect song recommender will take us months - no need to stress out too much. In this first week, we want you to explore new data sources for songs. The internet is full of information and our first step is to acquire it do an initial exploration. Feel free to use APIs or directly scrape the web to collect as much information as possible from popular songs. Eventually, we'll need to collect data from millions of songs, but we can start with a few hundreds or thousands from each source and see if the collected features are useful. \n",
    "\n",
    "Once the data is collected, we want you to create clusters of songs that are similar to each other. The idea is that if a user inputs a song from one group, we'll prioritize giving them recommendations of songs from that same group.\n",
    "\n",
    "On Friday, you will present your work to me and Marek, the CEO and founder. Full disclosure: I need you to be very convincing about this whole song-recommender, as this has been my personal push and the main reason we hired you for!\n",
    "\n",
    "Be open minded about this process: we are agile, and that means that we define our products and features on-the-go, while exploring the tools and the data that's available to us. We'd love you to provide your own vision of the product and the next steps to be taken.\n",
    "\n",
    "Lots of luck and strength for this first week with us!\n",
    "\n",
    "Jane"
   ]
  },
  {
   "cell_type": "code",
   "execution_count": 48,
   "id": "d2969b0f",
   "metadata": {},
   "outputs": [],
   "source": [
    "def Gnoosic_recommender ():\n",
    "    \n",
    "    #importing libraries\n",
    "    import pandas as pd\n",
    "    from pandas import json_normalize\n",
    "    import spotipy \n",
    "    from spotipy.oauth2 import SpotifyClientCredentials\n",
    "    import pickle\n",
    "    from IPython.display import IFrame\n",
    "    \n",
    "    #importing databases\n",
    "    top100_df = pd.read_csv('hot_songs.csv')\n",
    "    top_10000= pd.read_csv('clustered_songs.csv')\n",
    "    \n",
    "    #connecting to spotify\n",
    "    secrets_file = open(\".secret.txt\",\"r\")\n",
    "    string = secrets_file.read()\n",
    "    secrets_dict={}\n",
    "    for line in string.split('\\n'):\n",
    "        if len(line) > 0:\n",
    "            secrets_dict[line.split(':')[0]]=line.split(':')[1].strip()\n",
    "    sp = spotipy.Spotify(auth_manager=SpotifyClientCredentials(client_id=secrets_dict['clientid'],\n",
    "                                                           client_secret=secrets_dict['clientsecret']))\n",
    "    #beginning of recommendation process\n",
    "    print(\"Hi! Looking for song recommendations ? Leave it to me :D\")\n",
    "    \n",
    "    #identify user input\n",
    "    song = input(\"Enter a song title: \")\n",
    "    song=song.strip().lower()\n",
    "    artist = input(\"Enter the name of the artist: \")\n",
    "    artist=artist.strip().lower()\n",
    "    user_result = sp.search(q=\"artist:\" + artist + \" track:\" + song, type=\"track\", limit=1)\n",
    "    tracks = json_normalize(user_result[\"tracks\"][\"items\"])\n",
    "    \n",
    "    #identify wrong input\n",
    "    if user_result['tracks']['items'] == []:\n",
    "        print ('Oops, try another song or check for typos')\n",
    "        \n",
    "    #recommend hot songs\n",
    "    elif song in top100_df['title'].str.lower().values and artist in top100_df['artist'].str.lower().values:\n",
    "            #select a random song\n",
    "        random=top100_df.sample()\n",
    "            #searching the song in spotify to produce a clikable link\n",
    "        random_result = sp.search (q=\"artist:\" + random['artist'].values[0] + \n",
    "                                   \" track:\" + random['title'].values[0], type=\"track\", limit=1)\n",
    "        random_song = json_normalize(random_result[\"tracks\"][\"items\"])\n",
    "        song_id = random_song['id'].values[0]\n",
    "        print(\"You should check out this hot song:\")\n",
    "        print(random['title'].values[0], ' by ', random['artist'].values[0])\n",
    "        display(IFrame(src=f\"https://open.spotify.com/embed/track/{song_id}\",\n",
    "                       width=\"320\",\n",
    "                       height=\"80\",\n",
    "                       frameborder=\"0\",\n",
    "                       allowtransparency=\"true\",\n",
    "                       allow=\"encrypted-media\",\n",
    "                      ))\n",
    "        \n",
    "    else:\n",
    "        #recommend top 10000 songs\n",
    "            #extracting audio features\n",
    "        audio_features_list = sp.audio_features(tracks['id'][0])\n",
    "        audio_features_df = json_normalize(audio_features_list)\n",
    "        user_df = pd.concat([tracks[\"popularity\"], audio_features_df], axis=1)\n",
    "        num_df=user_df.select_dtypes('number')\n",
    "            #using saved scaler and cluster model\n",
    "        scale = pickle.load(open('scaler_model.pkl','rb'))\n",
    "        num_scaled = scale.transform(num_df)\n",
    "        data_scaled = pd.DataFrame(num_scaled, columns=num_df.columns)\n",
    "        model = pickle.load(open('clustering_model.pkl','rb'))\n",
    "        user_cluster = model.predict(data_scaled)\n",
    "            #retrieving cluster number\n",
    "        user_cluster = user_cluster[0]\n",
    "            #selecting songs subset from the same cluster\n",
    "        songs_cluster= top_10000[top_10000[\"cluster\"]==user_cluster]\n",
    "            #recommending random song from the cluster\n",
    "        random=songs_cluster.sample()\n",
    "        song_id=random['song_id'].values[0]\n",
    "        print(\"You should check out:\")\n",
    "        print(random['song_name'].values[0], ' by ', random['name'].values[0])\n",
    "            #generate clikable link\n",
    "        display(IFrame(src=f\"https://open.spotify.com/embed/track/{song_id}\",\n",
    "                       width=\"320\",\n",
    "                       height=\"80\",\n",
    "                       frameborder=\"0\",\n",
    "                       allowtransparency=\"true\",\n",
    "                       allow=\"encrypted-media\",\n",
    "                      ))\n",
    "        return\n",
    "    "
   ]
  },
  {
   "cell_type": "code",
   "execution_count": 49,
   "id": "c7342e18",
   "metadata": {},
   "outputs": [
    {
     "name": "stdout",
     "output_type": "stream",
     "text": [
      "Hi! Looking for song recommendations ? Leave it to me :D\n",
      "Enter a song title:     NOT LIKE US\n",
      "Enter the name of the artist: kendRICK LAMAR\n",
      "You should check out this hot song:\n",
      "I Can't  by  Reba McEntire\n"
     ]
    },
    {
     "data": {
      "text/html": [
       "\n",
       "        <iframe\n",
       "            width=\"320\"\n",
       "            height=\"80\"\n",
       "            src=\"https://open.spotify.com/embed/track/5E9ykjhgRvTZ1H3ulu9XTJ?frameborder=0&allowtransparency=true&allow=encrypted-media\"\n",
       "            frameborder=\"0\"\n",
       "            allowfullscreen\n",
       "            \n",
       "        ></iframe>\n",
       "        "
      ],
      "text/plain": [
       "<IPython.lib.display.IFrame at 0x151619b5e10>"
      ]
     },
     "metadata": {},
     "output_type": "display_data"
    }
   ],
   "source": [
    "Gnoosic_recommender()"
   ]
  },
  {
   "cell_type": "code",
   "execution_count": 50,
   "id": "2aa70f01",
   "metadata": {},
   "outputs": [
    {
     "name": "stdout",
     "output_type": "stream",
     "text": [
      "Hi! Looking for song recommendations ? Leave it to me :D\n",
      "Enter a song title: i wANT it that WAY\n",
      "Enter the name of the artist: Backstreet Boys\n",
      "You should check out:\n",
      "The Days Of Pearly Spencer  by  Marc Almond\n"
     ]
    },
    {
     "data": {
      "text/html": [
       "\n",
       "        <iframe\n",
       "            width=\"320\"\n",
       "            height=\"80\"\n",
       "            src=\"https://open.spotify.com/embed/track/7cWiJ0dyQXYkXcg2dZSmwq?frameborder=0&allowtransparency=true&allow=encrypted-media\"\n",
       "            frameborder=\"0\"\n",
       "            allowfullscreen\n",
       "            \n",
       "        ></iframe>\n",
       "        "
      ],
      "text/plain": [
       "<IPython.lib.display.IFrame at 0x15160fbb7d0>"
      ]
     },
     "metadata": {},
     "output_type": "display_data"
    }
   ],
   "source": [
    "Gnoosic_recommender()"
   ]
  },
  {
   "cell_type": "code",
   "execution_count": 51,
   "id": "5316db42",
   "metadata": {},
   "outputs": [
    {
     "name": "stdout",
     "output_type": "stream",
     "text": [
      "Hi! Looking for song recommendations ? Leave it to me :D\n",
      "Enter a song title: SOOOwoojah\n",
      "Enter the name of the artist: ABABABABABAB\n",
      "Oops, try another song or check for typos\n"
     ]
    }
   ],
   "source": [
    "Gnoosic_recommender()"
   ]
  },
  {
   "cell_type": "code",
   "execution_count": 52,
   "id": "ecf87fdf",
   "metadata": {},
   "outputs": [
    {
     "name": "stdout",
     "output_type": "stream",
     "text": [
      "Hi! Looking for song recommendations ? Leave it to me :D\n",
      "Enter a song title: Gangam style\n",
      "Enter the name of the artist: Psy\n",
      "Oops, try another song or check for typos\n"
     ]
    }
   ],
   "source": [
    "Gnoosic_recommender()"
   ]
  },
  {
   "cell_type": "code",
   "execution_count": 53,
   "id": "dc484c6e",
   "metadata": {},
   "outputs": [
    {
     "name": "stdout",
     "output_type": "stream",
     "text": [
      "Hi! Looking for song recommendations ? Leave it to me :D\n",
      "Enter a song title: Gangnam style\n",
      "Enter the name of the artist: Psy\n",
      "You should check out:\n",
      "Move on Up - Single Edit  by  Curtis Mayfield\n"
     ]
    },
    {
     "data": {
      "text/html": [
       "\n",
       "        <iframe\n",
       "            width=\"320\"\n",
       "            height=\"80\"\n",
       "            src=\"https://open.spotify.com/embed/track/0MHXrqn909p0LRTPsNsGEi?frameborder=0&allowtransparency=true&allow=encrypted-media\"\n",
       "            frameborder=\"0\"\n",
       "            allowfullscreen\n",
       "            \n",
       "        ></iframe>\n",
       "        "
      ],
      "text/plain": [
       "<IPython.lib.display.IFrame at 0x151619ba650>"
      ]
     },
     "metadata": {},
     "output_type": "display_data"
    }
   ],
   "source": [
    "Gnoosic_recommender()"
   ]
  },
  {
   "cell_type": "code",
   "execution_count": null,
   "id": "6c2294ce",
   "metadata": {},
   "outputs": [],
   "source": []
  }
 ],
 "metadata": {
  "kernelspec": {
   "display_name": "Python 3 (ipykernel)",
   "language": "python",
   "name": "python3"
  },
  "language_info": {
   "codemirror_mode": {
    "name": "ipython",
    "version": 3
   },
   "file_extension": ".py",
   "mimetype": "text/x-python",
   "name": "python",
   "nbconvert_exporter": "python",
   "pygments_lexer": "ipython3",
   "version": "3.11.7"
  }
 },
 "nbformat": 4,
 "nbformat_minor": 5
}
