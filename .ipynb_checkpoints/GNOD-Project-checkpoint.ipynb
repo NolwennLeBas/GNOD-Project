{
 "cells": [
  {
   "cell_type": "markdown",
   "id": "2ef3a8aa-9a16-494f-8182-f62122716871",
   "metadata": {},
   "source": [
    "                                                            GNOD Project"
   ]
  },
  {
   "cell_type": "markdown",
   "id": "bc380b37-1d50-43b2-b784-d1b90d1f043e",
   "metadata": {},
   "source": [
    "Context : \n",
    "Dear xxxxxxxx,\n",
    " \n",
    "We are thrilled to welcome you as a Data Analyst for Gnoosic!\n",
    " \n",
    "As you know, we are trying to come up with ways to enhance our music recommendations. One of the new features we'd like to research is to recommend songs (not only bands). We're also aware of the limitations of our collaborative filtering algorithms, and would like to give users two new possibilities when searching for recommendations:\n",
    " \n",
    "- Songs that are actually similar to the ones they picked from an acoustic point of view.\n",
    "- Songs that are popular around the world right now, independently from their tastes.\n",
    " \n",
    "Coming up with the perfect song recommender will take us months - no need to stress out too much. In this first week, we want you to explore new data sources for songs. The internet is full of information and our first step is to acquire it do an initial exploration. Feel free to use APIs or directly scrape the web to collect as much information as possible from popular songs. Eventually, we'll need to collect data from millions of songs, but we can start with a few hundreds or thousands from each source and see if the collected features are useful. \n",
    " \n",
    "Once the data is collected, we want you to create clusters of songs that are similar to each other. The idea is that if a user inputs a song from one group, we'll prioritize giving them recommendations of songs from that same group.\n",
    " \n",
    "On Friday, you will present your work to me and Marek, the CEO and founder. Full disclosure: I need you to be very convincing about this whole song-recommender, as this has been my personal push and the main reason we hired you for!\n",
    " \n",
    "Be open minded about this process: we are agile, and that means that we define our products and features on-the-go, while exploring the tools and the data that's available to us. We'd love you to provide your own vision of the product and the next steps to be taken.\n",
    " \n",
    "Lots of luck and strength for this first week with us!\n",
    " \n",
    "Jane"
   ]
  },
  {
   "cell_type": "code",
   "execution_count": 1,
   "id": "47d97c24-9070-4706-a1b1-6d495b7d53e4",
   "metadata": {},
   "outputs": [],
   "source": [
    "from bs4 import BeautifulSoup\n",
    "import requests\n",
    "import pandas as pd"
   ]
  },
  {
   "cell_type": "markdown",
   "id": "48df5289-108a-4860-b91a-dfaa128e2d1d",
   "metadata": {},
   "source": [
    "* PART I : Scraping popular songs\r",
    "s. Popvortex maintains a weekly Top 100 of \"hot\" songs here: http://www.popvortex.com/music/charts/top-100-songs.phart! Scrape the current top 100 songs and their respective artists, and put the information into a pandas dataframe."
   ]
  },
  {
   "cell_type": "code",
   "execution_count": 2,
   "id": "3e64daf6-1201-4259-9324-ac7c3cdfcbff",
   "metadata": {},
   "outputs": [],
   "source": [
    "#store the url in a variable\n",
    "url = \"http://www.popvortex.com/music/charts/top-100-songs.php\""
   ]
  },
  {
   "cell_type": "code",
   "execution_count": 3,
   "id": "2a252c38-7c47-4404-bc99-a5f2d015305b",
   "metadata": {},
   "outputs": [],
   "source": [
    "#download the html with a request\n",
    "response = requests.get(url)"
   ]
  },
  {
   "cell_type": "code",
   "execution_count": 4,
   "id": "0decb0aa-ad84-47e3-8594-6488f78ed4ee",
   "metadata": {},
   "outputs": [
    {
     "data": {
      "text/plain": [
       "200"
      ]
     },
     "execution_count": 4,
     "metadata": {},
     "output_type": "execute_result"
    }
   ],
   "source": [
    "#verify the response status\n",
    "response.status_code"
   ]
  },
  {
   "cell_type": "code",
   "execution_count": 5,
   "id": "a264da37-907d-4442-87c4-985565dc3e60",
   "metadata": {},
   "outputs": [],
   "source": [
    "#parse the html\n",
    "soup = BeautifulSoup(response.content, \"html.parser\")"
   ]
  },
  {
   "cell_type": "code",
   "execution_count": 6,
   "id": "4f77e766-9add-4377-bfc0-f31cab18a724",
   "metadata": {
    "scrolled": true
   },
   "outputs": [],
   "source": [
    "# retrieve/extract the top100 songs genral chart (using the top100 songs \"Selector\")\n",
    "top100=soup.select(\"body > div.container > div:nth-child(4) > div.col-xs-12.col-md-8 > div.chart-wrapper\")\n",
    "#top100"
   ]
  },
  {
   "cell_type": "code",
   "execution_count": 7,
   "id": "00f2f8c4-f8e9-4b4f-acfd-016e64ffaea8",
   "metadata": {},
   "outputs": [
    {
     "name": "stdout",
     "output_type": "stream",
     "text": [
      "['Not Like Us', 'A Bar Song (Tipsy)', 'meet the grahams', 'Where That Came From', 'euphoria', 'Lose Control', 'G.R.I.T.S', 'Family Matters', 'Not Today', 'Beautiful Things', 'A Bar Song (Tipsy)', 'Too Sweet', 'MILLION DOLLAR BABY', 'Miles on It', 'Fortnight (feat. Post Malone)', 'Espresso', 'Hollywood Nights', 'Like That', 'Illusion', 'Training Season', 'Push Ups', 'Wondering Why', 'Live Like You Were Dying', 'Kendrick Lamar 6:16 In LA Drake Diss', 'GO HOME W U', 'Save Me (with Lainey Wilson)', 'The Door', 'Lobby', 'Where the Wild Things Are', 'Halfway To Hell', 'Unwritten', 'Lil Boo Thang', 'Need a Favor', 'i like the way you kiss me', 'I Can Do It With a Broken Heart', 'The Sound of Silence (CYRIL Remix)', 'White Horse', 'Cowgirls (feat. ERNEST)', 'Austin', 'Save Me', 'Wildflowers and Wild Horses (Single Version)', 'A Country Boy Can Survive', 'Last Night', 'Fast Car', 'Austin', 'Praise (feat. Brandon Lake, Chris Brown & Chandler Moore)', 'GOOD DAY', 'Beautiful Things', 'Lovin On Me', \"TEXAS HOLD 'EM\", 'Closer', 'Forever and Ever, Amen', 'Dirt Cheap', 'I Remember Everything (feat. Kacey Musgraves)', 'TRUCK BED', 'Stick Season', 'Wine Into Whiskey', 'Houdini', 'Bulletproof', 'II MOST WANTED', 'Slow It Down', 'Cruel Summer', 'You Make Everything Beautiful', \"we can't be friends (wait for your love)\", 'Flowers', 'Goodness of God (Live)', 'Thinkin’ Bout Me', 'Wondering Why (Live AF Version)', 'Pirates & Parrots (feat. Mac McAnally)', 'Belong Together', 'Hard to Love', 'Broadway Girls (feat. Morgan Wallen)', 'Happy For You', 'Tennessee Whiskey', 'Unstoppable', 'Made For Me', 'Down Bad', 'Wranglers', 'Home', \"Something in the Orange (Z&E's Version)\", 'Spirit In the Sky', 'Spin You Around (1/24)', 'Light On', 'Cab In A Solo', 'Legendary', \"Set My Heart On Fire (I'm Alive x And The Beat Goes On)\", 'Saturn', 'The Chicken In Black', 'Selling (feat. OJ Da Juiceman)', 'Who’s Afraid of Little Old Me?', 'Hammer to the Heart', 'Take It All Back', 'A Symptom Of Being Human', 'Powerful Women', \"I Was Made for Lovin' You\", 'End of Beginning', 'Counting My Blessings (Collab Version)', 'Devil You Know', 'Let Your Boys Be Country', \"Wind Up Missin' You\"]\n",
      "['Kendrick Lamar', 'Shaboozey', 'Kendrick Lamar', 'Randy Travis', 'Kendrick Lamar', 'Teddy Swims', 'Jimmie Allen', 'Drake', 'BTS', 'Benson Boone', 'Shaboozey', 'Hozier', 'Tommy Richman', 'Marshmello & Kane Brown', 'Taylor Swift', 'Sabrina Carpenter', 'Black Oxygen', 'Future, Metro Boomin & Kendrick Lamar', 'Dua Lipa', 'Dua Lipa', 'Drake', 'The Red Clay Strays', 'Tim McGraw', 'Gloc23', 'Keith Urban & Lainey Wilson', 'Jelly Roll', 'Teddy Swims', 'SMITH', 'Luke Combs', 'Jelly Roll', 'Natasha Bedingfield', 'Paul Russell', 'Jelly Roll', 'Artemas', 'Taylor Swift', 'Disturbed', 'Chris Stapleton', 'Morgan Wallen', 'Dasha', 'Jelly Roll', 'Lainey Wilson', 'Hank Williams, Jr.', 'Morgan Wallen', 'Luke Combs', 'Dasha', 'Elevation Worship', 'Forrest Frank', 'Benson Boone', 'Jack Harlow', 'Beyoncé', 'August Moon', 'Randy Travis', 'Cody Johnson', 'Zach Bryan', 'HARDY', 'Noah Kahan', 'Tucker Wetmore', 'Dua Lipa', 'Nate Smith', 'Beyoncé & Miley Cyrus', 'Benson Boone', 'Taylor Swift', 'for KING & COUNTRY & Rebecca St. James', 'Ariana Grande', 'Miley Cyrus', 'CeCe Winans', 'Morgan Wallen', 'The Red Clay Strays & Western AF', 'Zac Brown Band', 'Mark Ambor', 'Lee Brice', 'Lil Durk', 'Dua Lipa', 'Chris Stapleton', 'Sia', 'Muni Long', 'Taylor Swift', 'Miranda Lambert', 'Good Neighbours', 'Zach Bryan', 'Norman Greenbaum', 'Morgan Wallen', 'Maggie Rogers', 'Scotty McCreery', 'Bon Jovi', 'Majestic, The Jammin Kid & Céline Dion', 'SZA', 'Johnny Cash', 'Sukihana', 'Taylor Swift', 'Teddy Swims', 'Tauren Wells, We The Kingdom & Davies', 'Shinedown', 'Pitbull & Dolly Parton', 'Kiss', 'Djo', 'Seph Schlueter & Matt Maher', 'Tyler Braden', 'Jason Aldean', 'Tucker Wetmore']\n"
     ]
    }
   ],
   "source": [
    "# from the general chart, extracting the title and artist of each songs and storing them into lists\n",
    "title=[]\n",
    "artist=[]\n",
    "for l in top100:\n",
    "    for t in l.select(\".title\"):\n",
    "        title.append(t.get_text())\n",
    "    for a in l.select(\".artist\"):\n",
    "        artist.append(a.get_text())\n",
    "print(title)\n",
    "print(artist)"
   ]
  },
  {
   "cell_type": "code",
   "execution_count": 8,
   "id": "478353c7-7116-4e96-b8e4-713eae697ea6",
   "metadata": {},
   "outputs": [
    {
     "data": {
      "text/html": [
       "<div>\n",
       "<style scoped>\n",
       "    .dataframe tbody tr th:only-of-type {\n",
       "        vertical-align: middle;\n",
       "    }\n",
       "\n",
       "    .dataframe tbody tr th {\n",
       "        vertical-align: top;\n",
       "    }\n",
       "\n",
       "    .dataframe thead th {\n",
       "        text-align: right;\n",
       "    }\n",
       "</style>\n",
       "<table border=\"1\" class=\"dataframe\">\n",
       "  <thead>\n",
       "    <tr style=\"text-align: right;\">\n",
       "      <th></th>\n",
       "      <th>title</th>\n",
       "      <th>artist</th>\n",
       "    </tr>\n",
       "  </thead>\n",
       "  <tbody>\n",
       "    <tr>\n",
       "      <th>0</th>\n",
       "      <td>Not Like Us</td>\n",
       "      <td>Kendrick Lamar</td>\n",
       "    </tr>\n",
       "    <tr>\n",
       "      <th>1</th>\n",
       "      <td>A Bar Song (Tipsy)</td>\n",
       "      <td>Shaboozey</td>\n",
       "    </tr>\n",
       "    <tr>\n",
       "      <th>2</th>\n",
       "      <td>meet the grahams</td>\n",
       "      <td>Kendrick Lamar</td>\n",
       "    </tr>\n",
       "    <tr>\n",
       "      <th>3</th>\n",
       "      <td>Where That Came From</td>\n",
       "      <td>Randy Travis</td>\n",
       "    </tr>\n",
       "    <tr>\n",
       "      <th>4</th>\n",
       "      <td>euphoria</td>\n",
       "      <td>Kendrick Lamar</td>\n",
       "    </tr>\n",
       "    <tr>\n",
       "      <th>...</th>\n",
       "      <td>...</td>\n",
       "      <td>...</td>\n",
       "    </tr>\n",
       "    <tr>\n",
       "      <th>95</th>\n",
       "      <td>End of Beginning</td>\n",
       "      <td>Djo</td>\n",
       "    </tr>\n",
       "    <tr>\n",
       "      <th>96</th>\n",
       "      <td>Counting My Blessings (Collab Version)</td>\n",
       "      <td>Seph Schlueter &amp; Matt Maher</td>\n",
       "    </tr>\n",
       "    <tr>\n",
       "      <th>97</th>\n",
       "      <td>Devil You Know</td>\n",
       "      <td>Tyler Braden</td>\n",
       "    </tr>\n",
       "    <tr>\n",
       "      <th>98</th>\n",
       "      <td>Let Your Boys Be Country</td>\n",
       "      <td>Jason Aldean</td>\n",
       "    </tr>\n",
       "    <tr>\n",
       "      <th>99</th>\n",
       "      <td>Wind Up Missin' You</td>\n",
       "      <td>Tucker Wetmore</td>\n",
       "    </tr>\n",
       "  </tbody>\n",
       "</table>\n",
       "<p>100 rows × 2 columns</p>\n",
       "</div>"
      ],
      "text/plain": [
       "                                     title                       artist\n",
       "0                              Not Like Us               Kendrick Lamar\n",
       "1                       A Bar Song (Tipsy)                    Shaboozey\n",
       "2                         meet the grahams               Kendrick Lamar\n",
       "3                     Where That Came From                 Randy Travis\n",
       "4                                 euphoria               Kendrick Lamar\n",
       "..                                     ...                          ...\n",
       "95                        End of Beginning                          Djo\n",
       "96  Counting My Blessings (Collab Version)  Seph Schlueter & Matt Maher\n",
       "97                          Devil You Know                 Tyler Braden\n",
       "98                Let Your Boys Be Country                 Jason Aldean\n",
       "99                     Wind Up Missin' You               Tucker Wetmore\n",
       "\n",
       "[100 rows x 2 columns]"
      ]
     },
     "execution_count": 8,
     "metadata": {},
     "output_type": "execute_result"
    }
   ],
   "source": [
    "# combining the lists into a dataframe\n",
    "top100_df = pd.DataFrame({\"title\":title, \"artist\":artist})\n",
    "top100_df"
   ]
  },
  {
   "cell_type": "markdown",
   "id": "7ed7b016-717c-45ed-b874-1f9365c1e035",
   "metadata": {},
   "source": [
    "* Asking for user input and recommending a random song from top100"
   ]
  },
  {
   "cell_type": "code",
   "execution_count": 9,
   "id": "c1563b23-ef84-49ff-9907-03585edb6a89",
   "metadata": {},
   "outputs": [
    {
     "name": "stdin",
     "output_type": "stream",
     "text": [
      "Enter song title:  Not like us\n"
     ]
    }
   ],
   "source": [
    "#asking for user input\n",
    "song_title=input(\"Enter song title: \")"
   ]
  },
  {
   "cell_type": "code",
   "execution_count": 10,
   "id": "ccd4c636-2457-4012-bc80-96443ce4fca7",
   "metadata": {},
   "outputs": [
    {
     "name": "stdout",
     "output_type": "stream",
     "text": [
      "You should check out:\n",
      "Wranglers  by  Miranda Lambert\n"
     ]
    }
   ],
   "source": [
    "#recommending a song\n",
    "if song_title.lower() in top100_df['title'].str.lower().values:\n",
    "    random=top100_df.sample()\n",
    "    print(\"You should check out:\")\n",
    "    print(random['title'].values[0], ' by ', random['artist'].values[0])\n",
    "else:\n",
    "    print(\"Can't recommend songs at the moment\")"
   ]
  },
  {
   "cell_type": "code",
   "execution_count": null,
   "id": "20d629d6-2e74-4293-a043-2dba85412e1a",
   "metadata": {},
   "outputs": [],
   "source": []
  }
 ],
 "metadata": {
  "kernelspec": {
   "display_name": "Python 3 (ipykernel)",
   "language": "python",
   "name": "python3"
  },
  "language_info": {
   "codemirror_mode": {
    "name": "ipython",
    "version": 3
   },
   "file_extension": ".py",
   "mimetype": "text/x-python",
   "name": "python",
   "nbconvert_exporter": "python",
   "pygments_lexer": "ipython3",
   "version": "3.11.7"
  }
 },
 "nbformat": 4,
 "nbformat_minor": 5
}
